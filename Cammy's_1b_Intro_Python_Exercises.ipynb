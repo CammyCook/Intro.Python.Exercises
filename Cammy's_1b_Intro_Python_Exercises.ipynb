{
  "cells": [
    {
      "cell_type": "markdown",
      "metadata": {
        "id": "view-in-github",
        "colab_type": "text"
      },
      "source": [
        "<a href=\"https://colab.research.google.com/github/CammyCook/Intro.Python.Exercises/blob/main/Cammy's_1b_Intro_Python_Exercises.ipynb\" target=\"_parent\"><img src=\"https://colab.research.google.com/assets/colab-badge.svg\" alt=\"Open In Colab\"/></a>"
      ]
    },
    {
      "cell_type": "markdown",
      "metadata": {
        "id": "_LisqFaek3CB"
      },
      "source": [
        "Getting started\n",
        "- Save this notebook to your Google Drive\n",
        "- Move it to your Exercises folder\n",
        "- Rename it to 'Your Name - Intro Python Exercises'\n",
        "- Some code cells have a little bit to get you started"
      ]
    },
    {
      "cell_type": "markdown",
      "metadata": {
        "id": "KgrpJVDmWXpC"
      },
      "source": [
        "Pick your own numbers to perform the following operations:\n",
        "- addition\n",
        "- subtraction\n",
        "- multiplication\n",
        "- division\n",
        "- exponentiation\n",
        "- modulation\n"
      ]
    },
    {
      "cell_type": "code",
      "execution_count": 2,
      "metadata": {
        "id": "Qd8tTnUrWs0s",
        "colab": {
          "base_uri": "https://localhost:8080/"
        },
        "outputId": "e9e55883-cb93-4455-c529-3495edbfdc94"
      },
      "outputs": [
        {
          "output_type": "execute_result",
          "data": {
            "text/plain": [
              "154"
            ]
          },
          "metadata": {},
          "execution_count": 2
        }
      ],
      "source": [
        "# addition\n",
        "56+98"
      ]
    },
    {
      "cell_type": "code",
      "execution_count": 3,
      "metadata": {
        "id": "zLBMvP_z7dgh",
        "colab": {
          "base_uri": "https://localhost:8080/"
        },
        "outputId": "82cf5f83-d72b-4cf3-c8e8-5ef8bf370088"
      },
      "outputs": [
        {
          "output_type": "execute_result",
          "data": {
            "text/plain": [
              "42"
            ]
          },
          "metadata": {},
          "execution_count": 3
        }
      ],
      "source": [
        "# subtraction\n",
        "98-56"
      ]
    },
    {
      "cell_type": "code",
      "source": [
        "# multiplication\n",
        "9*8"
      ],
      "metadata": {
        "id": "HeEm4EMlABm2",
        "colab": {
          "base_uri": "https://localhost:8080/"
        },
        "outputId": "35a42cdf-1648-403f-cbfe-86f18da41711"
      },
      "execution_count": 4,
      "outputs": [
        {
          "output_type": "execute_result",
          "data": {
            "text/plain": [
              "72"
            ]
          },
          "metadata": {},
          "execution_count": 4
        }
      ]
    },
    {
      "cell_type": "code",
      "source": [
        "# division\n",
        "72/9"
      ],
      "metadata": {
        "id": "6Huabc6eABkR",
        "colab": {
          "base_uri": "https://localhost:8080/"
        },
        "outputId": "64be643c-7f52-4100-a667-9d1d15750c0c"
      },
      "execution_count": 5,
      "outputs": [
        {
          "output_type": "execute_result",
          "data": {
            "text/plain": [
              "8.0"
            ]
          },
          "metadata": {},
          "execution_count": 5
        }
      ]
    },
    {
      "cell_type": "code",
      "source": [
        "# exponentiation\n",
        "8**2"
      ],
      "metadata": {
        "id": "6ul43D9ZABgD",
        "colab": {
          "base_uri": "https://localhost:8080/"
        },
        "outputId": "a0602923-28f7-4e7e-8ca3-b060c4736a61"
      },
      "execution_count": 6,
      "outputs": [
        {
          "output_type": "execute_result",
          "data": {
            "text/plain": [
              "64"
            ]
          },
          "metadata": {},
          "execution_count": 6
        }
      ]
    },
    {
      "cell_type": "code",
      "source": [
        "# modulation\n",
        "11%2"
      ],
      "metadata": {
        "id": "D4_R4libABbJ",
        "colab": {
          "base_uri": "https://localhost:8080/"
        },
        "outputId": "719ba986-8343-419e-f577-48c64f9f127d"
      },
      "execution_count": 7,
      "outputs": [
        {
          "output_type": "execute_result",
          "data": {
            "text/plain": [
              "1"
            ]
          },
          "metadata": {},
          "execution_count": 7
        }
      ]
    },
    {
      "cell_type": "markdown",
      "metadata": {
        "id": "Jq9H_BSkWxeg"
      },
      "source": [
        "Pick two numbers (one integer and one float) and assign them to the variables `first_number` and `second_number`."
      ]
    },
    {
      "cell_type": "code",
      "execution_count": 21,
      "metadata": {
        "id": "Pm_qRRN9XDmJ",
        "colab": {
          "base_uri": "https://localhost:8080/"
        },
        "outputId": "4c9732fe-f1af-4a0e-ba29-790d450b1217"
      },
      "outputs": [
        {
          "output_type": "stream",
          "name": "stdout",
          "text": [
            "7\n",
            "5.5\n"
          ]
        }
      ],
      "source": [
        "first_number = 7\n",
        "second_number = 5.5\n",
        "print(first_number)\n",
        "print(second_number)"
      ]
    },
    {
      "cell_type": "markdown",
      "metadata": {
        "id": "Kpu3UqT6XNN4"
      },
      "source": [
        "Make a variable called `product` that is the product of your two variables from above.  "
      ]
    },
    {
      "cell_type": "code",
      "execution_count": 22,
      "metadata": {
        "id": "0_rWQgjJXkpI",
        "colab": {
          "base_uri": "https://localhost:8080/"
        },
        "outputId": "92ccda8d-0da0-45d7-acdc-bb7ab3e83c2c"
      },
      "outputs": [
        {
          "output_type": "stream",
          "name": "stdout",
          "text": [
            "38.5\n"
          ]
        }
      ],
      "source": [
        "product = first_number*second_number\n",
        "print(product)"
      ]
    },
    {
      "cell_type": "markdown",
      "metadata": {
        "id": "lqUdyV_9XnAc"
      },
      "source": [
        "Come up with your own fun sentence to use a string and assign it to a variable name.  (Make sure to pick a variable name that follows the naming conventions.)"
      ]
    },
    {
      "cell_type": "code",
      "execution_count": 23,
      "metadata": {
        "id": "iWr98iLCX0ug"
      },
      "outputs": [],
      "source": [
        "sentence = \"I have beautiful children!\""
      ]
    },
    {
      "cell_type": "markdown",
      "metadata": {
        "id": "dPvdakIjYIGp"
      },
      "source": [
        "Make print statements for each of your variables\n",
        "- first_number\n",
        "- second_number\n",
        "- product\n",
        "- your string"
      ]
    },
    {
      "cell_type": "code",
      "execution_count": 24,
      "metadata": {
        "id": "qFPHiIc7Yahw",
        "colab": {
          "base_uri": "https://localhost:8080/"
        },
        "outputId": "0b16d566-0e45-4e0c-e221-8bf1786747d6"
      },
      "outputs": [
        {
          "output_type": "stream",
          "name": "stdout",
          "text": [
            "7\n"
          ]
        }
      ],
      "source": [
        "print(first_number)"
      ]
    },
    {
      "cell_type": "code",
      "source": [
        "print(second_number)"
      ],
      "metadata": {
        "id": "iINY2GQ_BSS5",
        "colab": {
          "base_uri": "https://localhost:8080/"
        },
        "outputId": "c947f70c-4f58-4365-dad6-97c7b64995d7"
      },
      "execution_count": 25,
      "outputs": [
        {
          "output_type": "stream",
          "name": "stdout",
          "text": [
            "5.5\n"
          ]
        }
      ]
    },
    {
      "cell_type": "code",
      "source": [
        "print(product)"
      ],
      "metadata": {
        "id": "21pVrW_VBSPh",
        "colab": {
          "base_uri": "https://localhost:8080/"
        },
        "outputId": "78ccbba9-4b5a-4aa6-ee8c-f9f36c3cdcf8"
      },
      "execution_count": 26,
      "outputs": [
        {
          "output_type": "stream",
          "name": "stdout",
          "text": [
            "38.5\n"
          ]
        }
      ]
    },
    {
      "cell_type": "code",
      "source": [
        "print(sentence)"
      ],
      "metadata": {
        "id": "av56TRvSBSLs",
        "colab": {
          "base_uri": "https://localhost:8080/"
        },
        "outputId": "8534cc2a-6f22-430a-e895-98973134a25c"
      },
      "execution_count": 27,
      "outputs": [
        {
          "output_type": "stream",
          "name": "stdout",
          "text": [
            "I have beautiful children!\n"
          ]
        }
      ]
    },
    {
      "cell_type": "markdown",
      "metadata": {
        "id": "7nfKd9dvYczK"
      },
      "source": [
        "Print the type of each of your variables\n",
        "- first_number\n",
        "- second_number\n",
        "- product\n",
        "- your string"
      ]
    },
    {
      "cell_type": "code",
      "execution_count": 20,
      "metadata": {
        "id": "4uGwXn9aYkuw",
        "colab": {
          "base_uri": "https://localhost:8080/"
        },
        "outputId": "688880c5-b063-4f13-c7fe-41c8a83751c0"
      },
      "outputs": [
        {
          "output_type": "execute_result",
          "data": {
            "text/plain": [
              "int"
            ]
          },
          "metadata": {},
          "execution_count": 20
        }
      ],
      "source": [
        "# first_number\n",
        "type(first_number)"
      ]
    },
    {
      "cell_type": "code",
      "execution_count": 28,
      "metadata": {
        "id": "ZDpijA3wQCiA",
        "colab": {
          "base_uri": "https://localhost:8080/"
        },
        "outputId": "e0648d33-b94e-42f4-9c12-2abc7cdc1a7a"
      },
      "outputs": [
        {
          "output_type": "execute_result",
          "data": {
            "text/plain": [
              "float"
            ]
          },
          "metadata": {},
          "execution_count": 28
        }
      ],
      "source": [
        "# second_number\n",
        "type(second_number)"
      ]
    },
    {
      "cell_type": "code",
      "execution_count": 29,
      "metadata": {
        "id": "XcijRMyQQHTz",
        "colab": {
          "base_uri": "https://localhost:8080/"
        },
        "outputId": "2b844668-afaf-4745-beec-936373c5a6d6"
      },
      "outputs": [
        {
          "output_type": "execute_result",
          "data": {
            "text/plain": [
              "float"
            ]
          },
          "metadata": {},
          "execution_count": 29
        }
      ],
      "source": [
        "# product\n",
        "type(product)"
      ]
    },
    {
      "cell_type": "code",
      "source": [
        "# your string\n",
        "type(sentence)"
      ],
      "metadata": {
        "id": "V6CBuxU8BlQz",
        "colab": {
          "base_uri": "https://localhost:8080/"
        },
        "outputId": "d4facea8-ca10-4a2a-d0d8-26b5d5920f7d"
      },
      "execution_count": 30,
      "outputs": [
        {
          "output_type": "execute_result",
          "data": {
            "text/plain": [
              "str"
            ]
          },
          "metadata": {},
          "execution_count": 30
        }
      ]
    },
    {
      "cell_type": "markdown",
      "metadata": {
        "id": "1rUWZ6OvX2dU"
      },
      "source": [
        "Find a string method that we did not go over in class to use on your string. You can find a list of string methods by checking the [documentation]( https://docs.python.org/3.10/library/stdtypes.html#string-methods ).\n"
      ]
    },
    {
      "cell_type": "code",
      "execution_count": 33,
      "metadata": {
        "id": "pY-wuo_pYDJb",
        "colab": {
          "base_uri": "https://localhost:8080/",
          "height": 35
        },
        "outputId": "e04d1f83-eb17-4225-a5e2-e5f4c78e4c61"
      },
      "outputs": [
        {
          "output_type": "execute_result",
          "data": {
            "text/plain": [
              "'i have beautiful children!'"
            ],
            "application/vnd.google.colaboratory.intrinsic+json": {
              "type": "string"
            }
          },
          "metadata": {},
          "execution_count": 33
        }
      ],
      "source": [
        "sentence.lower()"
      ]
    },
    {
      "cell_type": "code",
      "source": [
        "sentence.upper()"
      ],
      "metadata": {
        "id": "yvQv9ITeXsN3",
        "colab": {
          "base_uri": "https://localhost:8080/",
          "height": 35
        },
        "outputId": "bfe2e13a-075d-4abd-805c-303aaa7ccea1"
      },
      "execution_count": 34,
      "outputs": [
        {
          "output_type": "execute_result",
          "data": {
            "text/plain": [
              "'I HAVE BEAUTIFUL CHILDREN!'"
            ],
            "application/vnd.google.colaboratory.intrinsic+json": {
              "type": "string"
            }
          },
          "metadata": {},
          "execution_count": 34
        }
      ]
    },
    {
      "cell_type": "code",
      "source": [
        "old = \"beautiful\"\n",
        "new = \"intelligent\"\n",
        "sentence.replace(old,new)"
      ],
      "metadata": {
        "id": "Ydg6feuyD7y9",
        "colab": {
          "base_uri": "https://localhost:8080/",
          "height": 35
        },
        "outputId": "7a2f5925-7f54-4379-c8ee-7cf4a46a825d"
      },
      "execution_count": 38,
      "outputs": [
        {
          "output_type": "execute_result",
          "data": {
            "text/plain": [
              "'I have intelligent children!'"
            ],
            "application/vnd.google.colaboratory.intrinsic+json": {
              "type": "string"
            }
          },
          "metadata": {},
          "execution_count": 38
        }
      ]
    },
    {
      "cell_type": "code",
      "source": [
        "sentence.split()"
      ],
      "metadata": {
        "id": "aB9WIItcD_M4",
        "colab": {
          "base_uri": "https://localhost:8080/"
        },
        "outputId": "ff2875d1-b7b1-47b0-ab1f-1b496a3da800"
      },
      "execution_count": 39,
      "outputs": [
        {
          "output_type": "execute_result",
          "data": {
            "text/plain": [
              "['I', 'have', 'beautiful', 'children!']"
            ]
          },
          "metadata": {},
          "execution_count": 39
        }
      ]
    },
    {
      "cell_type": "code",
      "source": [
        "sentence.title()"
      ],
      "metadata": {
        "id": "5LkwfSuY7Z5R",
        "colab": {
          "base_uri": "https://localhost:8080/",
          "height": 35
        },
        "outputId": "280dbf20-05bd-4b9d-c531-0bb2511a6a85"
      },
      "execution_count": 41,
      "outputs": [
        {
          "output_type": "execute_result",
          "data": {
            "text/plain": [
              "'I Have Beautiful Children!'"
            ],
            "application/vnd.google.colaboratory.intrinsic+json": {
              "type": "string"
            }
          },
          "metadata": {},
          "execution_count": 41
        }
      ]
    },
    {
      "cell_type": "code",
      "source": [],
      "metadata": {
        "id": "QJ3omosRr7En"
      },
      "execution_count": null,
      "outputs": []
    }
  ],
  "metadata": {
    "colab": {
      "provenance": [],
      "toc_visible": true,
      "include_colab_link": true
    },
    "kernelspec": {
      "display_name": "Python 3",
      "name": "python3"
    }
  },
  "nbformat": 4,
  "nbformat_minor": 0
}